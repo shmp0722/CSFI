{
 "cells": [
  {
   "cell_type": "code",
   "execution_count": null,
   "metadata": {
    "collapsed": false
   },
   "outputs": [
    {
     "name": "stdout",
     "output_type": "stream",
     "text": [
      "Warning: Variable names were modified to make them valid MATLAB identifiers.\n"
     ]
    }
   ],
   "source": [
    "T  = readtable('10-2forMatlab2.xlsx');\n"
   ]
  },
  {
   "cell_type": "code",
   "execution_count": null,
   "metadata": {
    "collapsed": true
   },
   "outputs": [],
   "source": [
    "%% remove subjects HFA reliability is not enough\n",
    "rows =  T.FP< .15 & T.FN<.33 & T.FixLoss_pcnt<.2;\n",
    "\n",
    "T2 = T(rows,:);"
   ]
  },
  {
   "cell_type": "code",
   "execution_count": null,
   "metadata": {
    "collapsed": false
   },
   "outputs": [],
   "source": [
    "%% plot 1\n",
    "figure; hold on;\n",
    "plot(T2.MD10_2,T2.RGC_OCT,'ob')\n",
    "plot(T2.MD10_2,T2.RGC_HFA_Adjusted,'or')\n",
    "plot(T2.MD10_2,T2.wRGC_adjusted,'og')\n",
    "xlabel('MD value')\n",
    "ylabel('estimated num of RGC')\n",
    "legend({'OCT','HFA','weighted'})"
   ]
  },
  {
   "cell_type": "code",
   "execution_count": null,
   "metadata": {
    "collapsed": true
   },
   "outputs": [],
   "source": [
    "\n",
    "\n"
   ]
  }
 ],
 "metadata": {
  "kernelspec": {
   "display_name": "Matlab",
   "language": "matlab",
   "name": "matlab"
  },
  "language_info": {
   "codemirror_mode": "octave",
   "file_extension": ".m",
   "help_links": [
    {
     "text": "MetaKernel Magics",
     "url": "https://github.com/calysto/metakernel/blob/master/metakernel/magics/README.md"
    }
   ],
   "mimetype": "text/x-matlab",
   "name": "matlab",
   "version": "0.13.0"
  }
 },
 "nbformat": 4,
 "nbformat_minor": 2
}
