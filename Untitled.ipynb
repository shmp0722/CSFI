{
 "cells": [
  {
   "cell_type": "code",
   "execution_count": null,
   "metadata": {
    "collapsed": false
   },
   "outputs": [
    {
     "name": "stdout",
     "output_type": "stream",
     "text": [
      "警告: 有効な MATLAB 識別子になるように変数名が変更されました。\n"
     ]
    }
   ],
   "source": [
    "%% load data \n",
    "% G = readtable('Glc.csv');\n",
    "\n",
    "T = readtable('Latest20170208.xlsx');\n",
    "\n",
    "%% remove subjects HFA reliability is low\n",
    "rows =  T.FP< .2 & T.FN<.33 & T.FixLoss_pcnt<.2;\n",
    "\n",
    "T2 = T(rows,:);\n",
    "\n",
    "figure; hold on;\n",
    "subplot(1,2,1)\n",
    "plot(T2.CSFI,T2.MD30_2,'*r') % n = 575\n",
    "title 'Good HFA n =575 '  \n",
    "xlabel CSFI\n",
    "ylabel MD30-2\n",
    "\n",
    "subplot(1,2,2)\n",
    "plot(T.CSFI,T.MD30_2,'*') % n = 661\n",
    "title 'all subject n=661' \n",
    "xlabel CSFI\n",
    "ylabel MD30-2"
   ]
  },
  {
   "cell_type": "code",
   "execution_count": null,
   "metadata": {
    "collapsed": true
   },
   "outputs": [],
   "source": []
  }
 ],
 "metadata": {
  "anaconda-cloud": {},
  "kernelspec": {
   "display_name": "Matlab",
   "language": "matlab",
   "name": "matlab"
  },
  "language_info": {
   "codemirror_mode": "octave",
   "file_extension": ".m",
   "help_links": [
    {
     "text": "MetaKernel Magics",
     "url": "https://github.com/calysto/metakernel/blob/master/metakernel/magics/README.md"
    }
   ],
   "mimetype": "text/x-matlab",
   "name": "matlab",
   "version": "0.13.0"
  }
 },
 "nbformat": 4,
 "nbformat_minor": 2
}
