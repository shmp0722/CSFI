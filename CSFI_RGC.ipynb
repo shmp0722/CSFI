{
 "cells": [
  {
   "cell_type": "code",
   "execution_count": null,
   "metadata": {
    "collapsed": false
   },
   "outputs": [],
   "source": [
    "addpath(genpath('BlandAltman'))"
   ]
  },
  {
   "cell_type": "code",
   "execution_count": null,
   "metadata": {
    "collapsed": false
   },
   "outputs": [
    {
     "name": "stdout",
     "output_type": "stream",
     "text": [
      "Warning: Variable names were modified to make them valid MATLAB identifiers.\n"
     ]
    }
   ],
   "source": [
    "%% load data \n",
    "% G = readtable('Glc.csv');\n",
    "\n",
    "T = readtable('Latest20170208.xlsx');\n",
    "\n",
    "% remove subjects HFA reliability is low\n",
    "rows =  T.FP< .15 & T.FN<.33 & T.FixLoss_pcnt<.2;\n",
    "% rows =  T.FP< .15 & T.FixLoss_pcnt<.2;\n",
    "\n",
    "T2 = T(rows,:);\n",
    "\n",
    "%% NTG vs POAG\n",
    "Type = char(T2.Type);\n",
    "rows = zeros(length(T2.Type),1);\n",
    "\n",
    "% Pick up POAG\n",
    "for n = 1: length(T2.Type);\n",
    " rows(n) = strcmp(T2.Type(n),'POAG');\n",
    " rows    = logical(rows);\n",
    "end\n",
    "\n",
    "POAG = T2(rows,:);\n",
    "\n",
    "% pick up NTG\n",
    "for n = 1: length(T2.Type);\n",
    " rows(n) = strcmp(T2.Type(n),'NTG');\n",
    " rows    = logical(rows);\n",
    "end\n",
    "NTG  =  T2(rows,:);"
   ]
  },
  {
   "cell_type": "code",
   "execution_count": null,
   "metadata": {
    "collapsed": false
   },
   "outputs": [
    {
     "name": "stdout",
     "output_type": "stream",
     "text": [
      "\n",
      "r =\n",
      "\n",
      "    0.8715\n",
      "\n",
      "\n",
      "h =\n",
      "\n",
      "  1.5544e-178\n",
      "\n",
      "\n",
      "r =\n",
      "\n",
      "    0.8796\n",
      "\n",
      "\n",
      "h =\n",
      "\n",
      "  4.3030e-186\n",
      "\n",
      "\n",
      "r =\n",
      "\n",
      "    0.5692\n",
      "\n",
      "\n",
      "h =\n",
      "\n",
      "   1.9905e-50\n",
      "\n"
     ]
    }
   ],
   "source": [
    "%% RGC vs MD30-2\n",
    "figure; hold on;\n",
    "plot(T2.CSFI,T2.MD30_2,'og')\n",
    "[r,h]= corr(T2.CSFI,T2.MD30_2);% -0.89\n",
    "xlabel CSFI\n",
    "ylabel MD\n",
    "legend('CSFI')\n",
    "\n",
    "figure; hold on;\n",
    "plot(T2.RGC_OCT,T2.MD30_2,'ob')\n",
    "xlabel 'RGC OCT'\n",
    "ylabel MD\n",
    "[r,h]= corr(T2.RGC_OCT,T2.MD30_2)% -0.87\n",
    "\n",
    "figure; hold on;\n",
    "plot(T2.RGC_HFA,T2.MD30_2,'or')\n",
    "xlabel 'RGC HFA'\n",
    "ylabel MD\n",
    "[r,h]= corr(T2.RGC_HFA,T2.MD30_2)% -0.88\n",
    "\n",
    "figure; hold on;\n",
    "plot(T2.cpRNFL,T2.MD30_2,'o')\n",
    "xlabel 'cpRNFL'\n",
    "ylabel MD\n",
    "[r,h]= corr(T2.cpRNFL,T2.MD30_2)% -0.56"
   ]
  },
  {
   "cell_type": "code",
   "execution_count": null,
   "metadata": {
    "collapsed": true
   },
   "outputs": [],
   "source": []
  }
 ],
 "metadata": {
  "kernelspec": {
   "display_name": "Matlab",
   "language": "matlab",
   "name": "matlab"
  },
  "language_info": {
   "codemirror_mode": "octave",
   "file_extension": ".m",
   "help_links": [
    {
     "text": "MetaKernel Magics",
     "url": "https://github.com/calysto/metakernel/blob/master/metakernel/magics/README.md"
    }
   ],
   "mimetype": "text/x-matlab",
   "name": "matlab",
   "version": "0.13.0"
  }
 },
 "nbformat": 4,
 "nbformat_minor": 2
}
